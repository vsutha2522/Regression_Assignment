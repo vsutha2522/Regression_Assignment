{
 "cells": [
  {
   "cell_type": "code",
   "execution_count": 4,
   "id": "52d258b5-01cf-43ae-8d12-42312dfc2907",
   "metadata": {},
   "outputs": [],
   "source": [
    "import pickle"
   ]
  },
  {
   "cell_type": "code",
   "execution_count": 6,
   "id": "9dde4bdb-f9ca-42ef-9eb2-40f5c546f804",
   "metadata": {},
   "outputs": [],
   "source": [
    "model=pickle.load(open(\"svm_final_model.sav\",\"rb\"))\n",
    "result=model.predict([[30,1,37.9,3,0]])"
   ]
  },
  {
   "cell_type": "code",
   "execution_count": 7,
   "id": "2eb036ab-2c16-4263-aeb8-6826138c3357",
   "metadata": {},
   "outputs": [
    {
     "data": {
      "text/plain": [
       "array([16589.18908958])"
      ]
     },
     "execution_count": 7,
     "metadata": {},
     "output_type": "execute_result"
    }
   ],
   "source": [
    "result"
   ]
  },
  {
   "cell_type": "code",
   "execution_count": null,
   "id": "a27f3c3b-aca7-4b8e-ad39-3d595df52966",
   "metadata": {},
   "outputs": [],
   "source": []
  }
 ],
 "metadata": {
  "kernelspec": {
   "display_name": "Python 3 (ipykernel)",
   "language": "python",
   "name": "python3"
  },
  "language_info": {
   "codemirror_mode": {
    "name": "ipython",
    "version": 3
   },
   "file_extension": ".py",
   "mimetype": "text/x-python",
   "name": "python",
   "nbconvert_exporter": "python",
   "pygments_lexer": "ipython3",
   "version": "3.12.2"
  }
 },
 "nbformat": 4,
 "nbformat_minor": 5
}
